{
 "cells": [
  {
   "cell_type": "markdown",
   "metadata": {},
   "source": [
    "## <center> Madamiste Notebook"
   ]
  },
  {
   "cell_type": "markdown",
   "metadata": {},
   "source": [
    "## Import Libs"
   ]
  },
  {
   "cell_type": "code",
   "execution_count": 1,
   "metadata": {},
   "outputs": [],
   "source": [
    "import requests\n",
    "from tqdm import tqdm\n",
    "from bs4 import BeautifulSoup as bs\n",
    "import numpy as np\n",
    "import datetime as dt\n",
    "import pandas as pd"
   ]
  },
  {
   "cell_type": "markdown",
   "metadata": {},
   "source": [
    "## Parameters"
   ]
  },
  {
   "cell_type": "code",
   "execution_count": 2,
   "metadata": {},
   "outputs": [],
   "source": [
    "start_date = dt.datetime(2018,12,10)\n",
    "end_date = dt.date.today()"
   ]
  },
  {
   "cell_type": "markdown",
   "metadata": {},
   "source": [
    "## Extraction"
   ]
  },
  {
   "cell_type": "code",
   "execution_count": 3,
   "metadata": {},
   "outputs": [],
   "source": [
    "def get_dates(start_date, end_date):\n",
    "    \"\"\"\n",
    "    Returns all date which are not weekends\n",
    "    \"\"\"\n",
    "    dates = [date for date in pd.date_range(start_date,end_date,freq='d') if date.isoweekday() not in (6,7) ]\n",
    "    return dates\n",
    "\n",
    "def url_date(date):\n",
    "    \"\"\"\n",
    "    'url' for one date\n",
    "    \"\"\"\n",
    "    url = 'https://www.bonjourmadame.fr/{}/{}/{}/'.format(date.year, date.strftime(\"%m\"), date.strftime(\"%d\"))\n",
    "    return(url)\n",
    "\n",
    "def get_all_images(url):\n",
    "    \"\"\"\n",
    "    Returns all image URLs on a single `url`\n",
    "    \"\"\"\n",
    "    soup = bs(requests.get(url).content, \"html.parser\")\n",
    "    urls = []\n",
    "    for img in tqdm(soup.find_all(\"img\"), \"Extracting images\", disable = True):\n",
    "        img_url = img.attrs.get(\"src\")\n",
    "        urls.append(img_url)\n",
    "    return np.unique(urls)\n",
    "\n",
    "def the_image(imgs):\n",
    "    \"\"\"\n",
    "    Selects the good `url` ^^\n",
    "    \"\"\"\n",
    "    for img in imgs:\n",
    "        if img[-2:] != '=1':\n",
    "            return img\n",
    "\n",
    "def download(img, date):\n",
    "    \"\"\"\n",
    "    Downloads image on a single `url` for one date\n",
    "    \"\"\"\n",
    "    try:\n",
    "        r = requests.get(img)\n",
    "        with open(str(date.strftime(\"%Y%m%d\")) + \".png\", 'wb') as f:\n",
    "            f.write(r.content) \n",
    "            f.close()\n",
    "    except:\n",
    "        print(\"{} failed, surely a video! you can check at:  \".format(date.strftime(\"%Y%m%d\")) )\n",
    "        print(url_date(date))"
   ]
  },
  {
   "cell_type": "markdown",
   "metadata": {},
   "source": [
    "## Results"
   ]
  },
  {
   "cell_type": "code",
   "execution_count": null,
   "metadata": {},
   "outputs": [],
   "source": [
    "dates = get_dates(start_date, end_date)\n",
    "for date in dates:\n",
    "    url = url_date(date)\n",
    "    imgs = get_all_images(url)\n",
    "    the_img = the_image(imgs)\n",
    "    download(the_img, date)"
   ]
  }
 ],
 "metadata": {
  "kernelspec": {
   "display_name": "Python 3",
   "language": "python",
   "name": "python3"
  },
  "language_info": {
   "codemirror_mode": {
    "name": "ipython",
    "version": 3
   },
   "file_extension": ".py",
   "mimetype": "text/x-python",
   "name": "python",
   "nbconvert_exporter": "python",
   "pygments_lexer": "ipython3",
   "version": "3.8.5"
  }
 },
 "nbformat": 4,
 "nbformat_minor": 4
}
